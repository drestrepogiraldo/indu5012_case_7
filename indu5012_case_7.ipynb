{
 "cells": [
  {
   "cell_type": "markdown",
   "source": "# Case 7 - Resampling Methods",
   "metadata": {
    "cell_id": "9b5010ab-1732-4d30-85c6-56c700133abf",
    "tags": [],
    "deepnote_cell_type": "markdown"
   }
  },
  {
   "cell_type": "markdown",
   "source": "## Introduction\n**Context.** \n\nYou are an analyst at the marketing area of a big supermarket chain in the country.\n\n**Problem.** \n\nYour task is to find out wich features are important on determining how many times a client is going to make a purchase to our supermarket. At the same time you are tasked with building a prediction model capable of predicting the amount of times a person is going to buy from us. \n\n**Analytical Context.** \n\nYou are requiered to build a lineal model and use several resalmpling methods in order to improve the model.",
   "metadata": {
    "cell_id": "0be639d7-4664-4c3e-92f3-144db5ebfe91",
    "tags": [],
    "deepnote_cell_type": "markdown"
   }
  },
  {
   "cell_type": "markdown",
   "source": "## Packages Import",
   "metadata": {
    "cell_id": "363155ba-d34f-452e-b6d6-b8f431a3ccde",
    "tags": [],
    "deepnote_cell_type": "markdown"
   }
  },
  {
   "cell_type": "code",
   "metadata": {
    "cell_id": "26819052-ab4b-43d7-a675-58b742c44972",
    "tags": [],
    "deepnote_to_be_reexecuted": false,
    "source_hash": "471f39dc",
    "execution_start": 1645019933990,
    "execution_millis": 4427,
    "deepnote_cell_type": "code"
   },
   "source": "!pip install statsmodels",
   "execution_count": 1,
   "outputs": [
    {
     "name": "stdout",
     "text": "Requirement already satisfied: statsmodels in /root/venv/lib/python3.7/site-packages (0.13.2)\nRequirement already satisfied: packaging>=21.3 in /shared-libs/python3.7/py-core/lib/python3.7/site-packages (from statsmodels) (21.3)\nRequirement already satisfied: patsy>=0.5.2 in /root/venv/lib/python3.7/site-packages (from statsmodels) (0.5.2)\nRequirement already satisfied: pandas>=0.25 in /shared-libs/python3.7/py/lib/python3.7/site-packages (from statsmodels) (1.2.5)\nRequirement already satisfied: numpy>=1.17 in /shared-libs/python3.7/py/lib/python3.7/site-packages (from statsmodels) (1.19.5)\nRequirement already satisfied: scipy>=1.3 in /shared-libs/python3.7/py/lib/python3.7/site-packages (from statsmodels) (1.7.3)\nRequirement already satisfied: pyparsing!=3.0.5,>=2.0.2 in /shared-libs/python3.7/py-core/lib/python3.7/site-packages (from packaging>=21.3->statsmodels) (3.0.7)\nRequirement already satisfied: six in /shared-libs/python3.7/py-core/lib/python3.7/site-packages (from patsy>=0.5.2->statsmodels) (1.16.0)\nRequirement already satisfied: pytz>=2017.3 in /shared-libs/python3.7/py/lib/python3.7/site-packages (from pandas>=0.25->statsmodels) (2021.3)\nRequirement already satisfied: python-dateutil>=2.7.3 in /shared-libs/python3.7/py-core/lib/python3.7/site-packages (from pandas>=0.25->statsmodels) (2.8.2)\n\u001b[33mWARNING: You are using pip version 20.1.1; however, version 22.0.3 is available.\nYou should consider upgrading via the '/root/venv/bin/python -m pip install --upgrade pip' command.\u001b[0m\n",
     "output_type": "stream"
    }
   ]
  },
  {
   "cell_type": "code",
   "metadata": {
    "cell_id": "4b48c919-928d-4ff3-ace5-48c883083d2e",
    "tags": [],
    "deepnote_to_be_reexecuted": false,
    "source_hash": "953f2de1",
    "execution_start": 1645019938427,
    "execution_millis": 2888,
    "deepnote_cell_type": "code"
   },
   "source": "import pandas as pd\nimport numpy as np\nimport matplotlib.pyplot as plt\nimport seaborn as sns\nimport statsmodels.api as sm\nimport statsmodels.formula.api as smf\nfrom matplotlib import cm\nfrom pandas.plotting import scatter_matrix\nimport statsmodels.graphics.correlation\nfrom statsmodels.stats import diagnostic\n\nfrom sklearn.model_selection import KFold",
   "execution_count": 2,
   "outputs": []
  },
  {
   "cell_type": "markdown",
   "source": "## Data Import",
   "metadata": {
    "cell_id": "e3261d4d-f99d-4190-983a-3d80286afa5a",
    "tags": [],
    "deepnote_cell_type": "markdown"
   }
  },
  {
   "cell_type": "markdown",
   "source": "The information was downloaded from a freely available dataset from [Kaggle](https://www.kaggle.com/imakash3011/customer-personality-analysis)",
   "metadata": {
    "cell_id": "46ef164a-bc67-411c-8cd9-679aecad0222",
    "tags": [],
    "deepnote_cell_type": "markdown"
   }
  },
  {
   "cell_type": "code",
   "metadata": {
    "cell_id": "377a20fe-d282-40c2-9128-d53c859b157f",
    "tags": [],
    "deepnote_to_be_reexecuted": false,
    "source_hash": "11112483",
    "execution_start": 1645019941326,
    "execution_millis": 67,
    "deepnote_cell_type": "code"
   },
   "source": "df_customers = pd.read_csv('/work/indu5012_case_7/data/Customers.csv',sep='\\t')\ndf_customers['Total_Purchases'] = df_customers['NumWebPurchases'] + df_customers['NumCatalogPurchases']+ df_customers['NumStorePurchases']\ndf_customers.drop(columns=['ID','Dt_Customer','NumWebPurchases','NumCatalogPurchases','NumStorePurchases','AcceptedCmp3',\n       'AcceptedCmp4', 'AcceptedCmp5', 'AcceptedCmp1', 'AcceptedCmp2','Z_Revenue','NumDealsPurchases','Response','Z_CostContact','Year_Birth','MntWines','MntSweetProducts','MntFruits', 'MntMeatProducts', 'MntFishProducts',\n       'MntGoldProds'],inplace = True)\ndf_customers.head(3)",
   "execution_count": 3,
   "outputs": [
    {
     "output_type": "execute_result",
     "execution_count": 3,
     "data": {
      "application/vnd.deepnote.dataframe.v3+json": {
       "column_count": 9,
       "row_count": 3,
       "columns": [
        {
         "name": "Education",
         "dtype": "object",
         "stats": {
          "unique_count": 1,
          "nan_count": 0,
          "categories": [
           {
            "name": "Graduation",
            "count": 3
           }
          ]
         }
        },
        {
         "name": "Marital_Status",
         "dtype": "object",
         "stats": {
          "unique_count": 2,
          "nan_count": 0,
          "categories": [
           {
            "name": "Single",
            "count": 2
           },
           {
            "name": "Together",
            "count": 1
           }
          ]
         }
        },
        {
         "name": "Income",
         "dtype": "float64",
         "stats": {
          "unique_count": 3,
          "nan_count": 0,
          "min": "46344.0",
          "max": "71613.0",
          "histogram": [
           {
            "bin_start": 46344,
            "bin_end": 48870.9,
            "count": 1
           },
           {
            "bin_start": 48870.9,
            "bin_end": 51397.8,
            "count": 0
           },
           {
            "bin_start": 51397.8,
            "bin_end": 53924.7,
            "count": 0
           },
           {
            "bin_start": 53924.7,
            "bin_end": 56451.6,
            "count": 0
           },
           {
            "bin_start": 56451.6,
            "bin_end": 58978.5,
            "count": 1
           },
           {
            "bin_start": 58978.5,
            "bin_end": 61505.4,
            "count": 0
           },
           {
            "bin_start": 61505.4,
            "bin_end": 64032.3,
            "count": 0
           },
           {
            "bin_start": 64032.3,
            "bin_end": 66559.2,
            "count": 0
           },
           {
            "bin_start": 66559.2,
            "bin_end": 69086.1,
            "count": 0
           },
           {
            "bin_start": 69086.1,
            "bin_end": 71613,
            "count": 1
           }
          ]
         }
        },
        {
         "name": "Kidhome",
         "dtype": "int64",
         "stats": {
          "unique_count": 2,
          "nan_count": 0,
          "min": "0",
          "max": "1",
          "histogram": [
           {
            "bin_start": 0,
            "bin_end": 0.1,
            "count": 2
           },
           {
            "bin_start": 0.1,
            "bin_end": 0.2,
            "count": 0
           },
           {
            "bin_start": 0.2,
            "bin_end": 0.30000000000000004,
            "count": 0
           },
           {
            "bin_start": 0.30000000000000004,
            "bin_end": 0.4,
            "count": 0
           },
           {
            "bin_start": 0.4,
            "bin_end": 0.5,
            "count": 0
           },
           {
            "bin_start": 0.5,
            "bin_end": 0.6000000000000001,
            "count": 0
           },
           {
            "bin_start": 0.6000000000000001,
            "bin_end": 0.7000000000000001,
            "count": 0
           },
           {
            "bin_start": 0.7000000000000001,
            "bin_end": 0.8,
            "count": 0
           },
           {
            "bin_start": 0.8,
            "bin_end": 0.9,
            "count": 0
           },
           {
            "bin_start": 0.9,
            "bin_end": 1,
            "count": 1
           }
          ]
         }
        },
        {
         "name": "Teenhome",
         "dtype": "int64",
         "stats": {
          "unique_count": 2,
          "nan_count": 0,
          "min": "0",
          "max": "1",
          "histogram": [
           {
            "bin_start": 0,
            "bin_end": 0.1,
            "count": 2
           },
           {
            "bin_start": 0.1,
            "bin_end": 0.2,
            "count": 0
           },
           {
            "bin_start": 0.2,
            "bin_end": 0.30000000000000004,
            "count": 0
           },
           {
            "bin_start": 0.30000000000000004,
            "bin_end": 0.4,
            "count": 0
           },
           {
            "bin_start": 0.4,
            "bin_end": 0.5,
            "count": 0
           },
           {
            "bin_start": 0.5,
            "bin_end": 0.6000000000000001,
            "count": 0
           },
           {
            "bin_start": 0.6000000000000001,
            "bin_end": 0.7000000000000001,
            "count": 0
           },
           {
            "bin_start": 0.7000000000000001,
            "bin_end": 0.8,
            "count": 0
           },
           {
            "bin_start": 0.8,
            "bin_end": 0.9,
            "count": 0
           },
           {
            "bin_start": 0.9,
            "bin_end": 1,
            "count": 1
           }
          ]
         }
        },
        {
         "name": "Recency",
         "dtype": "int64",
         "stats": {
          "unique_count": 3,
          "nan_count": 0,
          "min": "26",
          "max": "58",
          "histogram": [
           {
            "bin_start": 26,
            "bin_end": 29.2,
            "count": 1
           },
           {
            "bin_start": 29.2,
            "bin_end": 32.4,
            "count": 0
           },
           {
            "bin_start": 32.4,
            "bin_end": 35.6,
            "count": 0
           },
           {
            "bin_start": 35.6,
            "bin_end": 38.8,
            "count": 1
           },
           {
            "bin_start": 38.8,
            "bin_end": 42,
            "count": 0
           },
           {
            "bin_start": 42,
            "bin_end": 45.2,
            "count": 0
           },
           {
            "bin_start": 45.2,
            "bin_end": 48.400000000000006,
            "count": 0
           },
           {
            "bin_start": 48.400000000000006,
            "bin_end": 51.6,
            "count": 0
           },
           {
            "bin_start": 51.6,
            "bin_end": 54.8,
            "count": 0
           },
           {
            "bin_start": 54.8,
            "bin_end": 58,
            "count": 1
           }
          ]
         }
        },
        {
         "name": "NumWebVisitsMonth",
         "dtype": "int64",
         "stats": {
          "unique_count": 3,
          "nan_count": 0,
          "min": "4",
          "max": "7",
          "histogram": [
           {
            "bin_start": 4,
            "bin_end": 4.3,
            "count": 1
           },
           {
            "bin_start": 4.3,
            "bin_end": 4.6,
            "count": 0
           },
           {
            "bin_start": 4.6,
            "bin_end": 4.9,
            "count": 0
           },
           {
            "bin_start": 4.9,
            "bin_end": 5.2,
            "count": 1
           },
           {
            "bin_start": 5.2,
            "bin_end": 5.5,
            "count": 0
           },
           {
            "bin_start": 5.5,
            "bin_end": 5.8,
            "count": 0
           },
           {
            "bin_start": 5.8,
            "bin_end": 6.1,
            "count": 0
           },
           {
            "bin_start": 6.1,
            "bin_end": 6.4,
            "count": 0
           },
           {
            "bin_start": 6.4,
            "bin_end": 6.699999999999999,
            "count": 0
           },
           {
            "bin_start": 6.699999999999999,
            "bin_end": 7,
            "count": 1
           }
          ]
         }
        },
        {
         "name": "Complain",
         "dtype": "int64",
         "stats": {
          "unique_count": 1,
          "nan_count": 0,
          "min": "0",
          "max": "0",
          "histogram": [
           {
            "bin_start": -0.5,
            "bin_end": -0.4,
            "count": 0
           },
           {
            "bin_start": -0.4,
            "bin_end": -0.3,
            "count": 0
           },
           {
            "bin_start": -0.3,
            "bin_end": -0.19999999999999996,
            "count": 0
           },
           {
            "bin_start": -0.19999999999999996,
            "bin_end": -0.09999999999999998,
            "count": 0
           },
           {
            "bin_start": -0.09999999999999998,
            "bin_end": 0,
            "count": 0
           },
           {
            "bin_start": 0,
            "bin_end": 0.10000000000000009,
            "count": 3
           },
           {
            "bin_start": 0.10000000000000009,
            "bin_end": 0.20000000000000007,
            "count": 0
           },
           {
            "bin_start": 0.20000000000000007,
            "bin_end": 0.30000000000000004,
            "count": 0
           },
           {
            "bin_start": 0.30000000000000004,
            "bin_end": 0.4,
            "count": 0
           },
           {
            "bin_start": 0.4,
            "bin_end": 0.5,
            "count": 0
           }
          ]
         }
        },
        {
         "name": "Total_Purchases",
         "dtype": "int64",
         "stats": {
          "unique_count": 3,
          "nan_count": 0,
          "min": "4",
          "max": "22",
          "histogram": [
           {
            "bin_start": 4,
            "bin_end": 5.8,
            "count": 1
           },
           {
            "bin_start": 5.8,
            "bin_end": 7.6,
            "count": 0
           },
           {
            "bin_start": 7.6,
            "bin_end": 9.4,
            "count": 0
           },
           {
            "bin_start": 9.4,
            "bin_end": 11.2,
            "count": 0
           },
           {
            "bin_start": 11.2,
            "bin_end": 13,
            "count": 0
           },
           {
            "bin_start": 13,
            "bin_end": 14.8,
            "count": 0
           },
           {
            "bin_start": 14.8,
            "bin_end": 16.6,
            "count": 0
           },
           {
            "bin_start": 16.6,
            "bin_end": 18.4,
            "count": 0
           },
           {
            "bin_start": 18.4,
            "bin_end": 20.2,
            "count": 1
           },
           {
            "bin_start": 20.2,
            "bin_end": 22,
            "count": 1
           }
          ]
         }
        },
        {
         "name": "_deepnote_index_column",
         "dtype": "int64"
        }
       ],
       "rows": [
        {
         "Education": "Graduation",
         "Marital_Status": "Single",
         "Income": 58138,
         "Kidhome": 0,
         "Teenhome": 0,
         "Recency": 58,
         "NumWebVisitsMonth": 7,
         "Complain": 0,
         "Total_Purchases": 22,
         "_deepnote_index_column": 0
        },
        {
         "Education": "Graduation",
         "Marital_Status": "Single",
         "Income": 46344,
         "Kidhome": 1,
         "Teenhome": 1,
         "Recency": 38,
         "NumWebVisitsMonth": 5,
         "Complain": 0,
         "Total_Purchases": 4,
         "_deepnote_index_column": 1
        },
        {
         "Education": "Graduation",
         "Marital_Status": "Together",
         "Income": 71613,
         "Kidhome": 0,
         "Teenhome": 0,
         "Recency": 26,
         "NumWebVisitsMonth": 4,
         "Complain": 0,
         "Total_Purchases": 20,
         "_deepnote_index_column": 2
        }
       ]
      },
      "text/plain": "    Education Marital_Status   Income  Kidhome  Teenhome  Recency  \\\n0  Graduation         Single  58138.0        0         0       58   \n1  Graduation         Single  46344.0        1         1       38   \n2  Graduation       Together  71613.0        0         0       26   \n\n   NumWebVisitsMonth  Complain  Total_Purchases  \n0                  7         0               22  \n1                  5         0                4  \n2                  4         0               20  ",
      "text/html": "<div>\n<style scoped>\n    .dataframe tbody tr th:only-of-type {\n        vertical-align: middle;\n    }\n\n    .dataframe tbody tr th {\n        vertical-align: top;\n    }\n\n    .dataframe thead th {\n        text-align: right;\n    }\n</style>\n<table border=\"1\" class=\"dataframe\">\n  <thead>\n    <tr style=\"text-align: right;\">\n      <th></th>\n      <th>Education</th>\n      <th>Marital_Status</th>\n      <th>Income</th>\n      <th>Kidhome</th>\n      <th>Teenhome</th>\n      <th>Recency</th>\n      <th>NumWebVisitsMonth</th>\n      <th>Complain</th>\n      <th>Total_Purchases</th>\n    </tr>\n  </thead>\n  <tbody>\n    <tr>\n      <th>0</th>\n      <td>Graduation</td>\n      <td>Single</td>\n      <td>58138.0</td>\n      <td>0</td>\n      <td>0</td>\n      <td>58</td>\n      <td>7</td>\n      <td>0</td>\n      <td>22</td>\n    </tr>\n    <tr>\n      <th>1</th>\n      <td>Graduation</td>\n      <td>Single</td>\n      <td>46344.0</td>\n      <td>1</td>\n      <td>1</td>\n      <td>38</td>\n      <td>5</td>\n      <td>0</td>\n      <td>4</td>\n    </tr>\n    <tr>\n      <th>2</th>\n      <td>Graduation</td>\n      <td>Together</td>\n      <td>71613.0</td>\n      <td>0</td>\n      <td>0</td>\n      <td>26</td>\n      <td>4</td>\n      <td>0</td>\n      <td>20</td>\n    </tr>\n  </tbody>\n</table>\n</div>"
     },
     "metadata": {}
    }
   ]
  },
  {
   "cell_type": "markdown",
   "source": "## Exploratory Data Analysis",
   "metadata": {
    "cell_id": "34f8170a-dff6-41fb-81e3-766c079c6ed8",
    "tags": [],
    "deepnote_cell_type": "markdown"
   }
  },
  {
   "cell_type": "code",
   "metadata": {
    "cell_id": "8d5b2861-484f-4f2b-86e8-599722201a6a",
    "tags": [],
    "deepnote_to_be_reexecuted": false,
    "source_hash": "b936067a",
    "execution_start": 1645019941414,
    "execution_millis": 7,
    "deepnote_cell_type": "code"
   },
   "source": "df_customers.info()",
   "execution_count": 4,
   "outputs": [
    {
     "name": "stdout",
     "text": "<class 'pandas.core.frame.DataFrame'>\nRangeIndex: 2240 entries, 0 to 2239\nData columns (total 9 columns):\n #   Column             Non-Null Count  Dtype  \n---  ------             --------------  -----  \n 0   Education          2240 non-null   object \n 1   Marital_Status     2240 non-null   object \n 2   Income             2216 non-null   float64\n 3   Kidhome            2240 non-null   int64  \n 4   Teenhome           2240 non-null   int64  \n 5   Recency            2240 non-null   int64  \n 6   NumWebVisitsMonth  2240 non-null   int64  \n 7   Complain           2240 non-null   int64  \n 8   Total_Purchases    2240 non-null   int64  \ndtypes: float64(1), int64(6), object(2)\nmemory usage: 157.6+ KB\n",
     "output_type": "stream"
    }
   ]
  },
  {
   "cell_type": "code",
   "metadata": {
    "cell_id": "bc32d472-41b8-4bd4-b5a4-a194b5c904ed",
    "tags": [],
    "deepnote_to_be_reexecuted": false,
    "source_hash": "27a7e005",
    "execution_start": 1645019941429,
    "execution_millis": 6,
    "deepnote_output_heights": [
     59.5625
    ],
    "deepnote_cell_type": "code"
   },
   "source": "df_customers.columns",
   "execution_count": 5,
   "outputs": [
    {
     "output_type": "execute_result",
     "execution_count": 5,
     "data": {
      "text/plain": "Index(['Education', 'Marital_Status', 'Income', 'Kidhome', 'Teenhome',\n       'Recency', 'NumWebVisitsMonth', 'Complain', 'Total_Purchases'],\n      dtype='object')"
     },
     "metadata": {}
    }
   ]
  },
  {
   "cell_type": "code",
   "metadata": {
    "cell_id": "293cf645-06a1-4f54-822e-09877eeb412c",
    "tags": [],
    "deepnote_to_be_reexecuted": false,
    "source_hash": "f5de872c",
    "execution_start": 1645019941482,
    "execution_millis": 277,
    "deepnote_output_heights": [
     21.1875,
     264
    ],
    "deepnote_cell_type": "code"
   },
   "source": "sns.histplot(df_customers['Education'])",
   "execution_count": 6,
   "outputs": [
    {
     "output_type": "execute_result",
     "execution_count": 6,
     "data": {
      "text/plain": "<AxesSubplot:xlabel='Education', ylabel='Count'>"
     },
     "metadata": {}
    },
    {
     "data": {
      "text/plain": "<Figure size 432x288 with 1 Axes>",
      "image/png": "[encoded data removed]"
     },
     "metadata": {
      "needs_background": "light",
      "image/png": {
       "width": 395,
       "height": 262
      }
     },
     "output_type": "display_data"
    }
   ]
  },
  {
   "cell_type": "code",
   "metadata": {
    "cell_id": "196eacc6-4142-4202-96f9-269b5b89cb7c",
    "tags": [],
    "deepnote_to_be_reexecuted": false,
    "source_hash": "ddce2f8c",
    "execution_start": 1645019941764,
    "execution_millis": 213,
    "deepnote_output_heights": [
     21.1875,
     265
    ],
    "deepnote_cell_type": "code"
   },
   "source": "remove_list = ['YOLO','Absurd','Alone']\ndf_customers = df_customers[~df_customers['Marital_Status'].isin(remove_list)]\nsns.histplot(df_customers['Marital_Status'])",
   "execution_count": 7,
   "outputs": [
    {
     "output_type": "execute_result",
     "execution_count": 7,
     "data": {
      "text/plain": "<AxesSubplot:xlabel='Marital_Status', ylabel='Count'>"
     },
     "metadata": {}
    },
    {
     "data": {
      "text/plain": "<Figure size 432x288 with 1 Axes>",
      "image/png": "[encoded data removed]"
     },
     "metadata": {
      "needs_background": "light",
      "image/png": {
       "width": 389,
       "height": 263
      }
     },
     "output_type": "display_data"
    }
   ]
  },
  {
   "cell_type": "code",
   "metadata": {
    "cell_id": "8d3f5c97-eba6-42b6-8b3c-6028c6c0c738",
    "tags": [],
    "deepnote_to_be_reexecuted": false,
    "source_hash": "7ed2c5ee",
    "execution_start": 1645019941983,
    "execution_millis": 360,
    "deepnote_output_heights": [
     21.1875,
     264
    ],
    "deepnote_cell_type": "code"
   },
   "source": "df_customers= df_customers[df_customers['Income']<100000]\nsns.histplot(df_customers['Income'])",
   "execution_count": 8,
   "outputs": [
    {
     "output_type": "execute_result",
     "execution_count": 8,
     "data": {
      "text/plain": "<AxesSubplot:xlabel='Income', ylabel='Count'>"
     },
     "metadata": {}
    },
    {
     "data": {
      "text/plain": "<Figure size 432x288 with 1 Axes>",
      "image/png": "[encoded data removed]"
     },
     "metadata": {
      "needs_background": "light",
      "image/png": {
       "width": 396,
       "height": 262
      }
     },
     "output_type": "display_data"
    }
   ]
  },
  {
   "cell_type": "code",
   "metadata": {
    "cell_id": "cbf07eee-6bf0-406c-8eff-e7317cab8c1a",
    "tags": [],
    "deepnote_to_be_reexecuted": false,
    "source_hash": "7cbdbe09",
    "execution_start": 1645019942420,
    "execution_millis": 635,
    "deepnote_output_heights": [
     21.1875,
     264
    ],
    "deepnote_cell_type": "code"
   },
   "source": "sns.histplot(df_customers['Kidhome'])",
   "execution_count": 9,
   "outputs": [
    {
     "output_type": "execute_result",
     "execution_count": 9,
     "data": {
      "text/plain": "<AxesSubplot:xlabel='Kidhome', ylabel='Count'>"
     },
     "metadata": {}
    },
    {
     "data": {
      "text/plain": "<Figure size 432x288 with 1 Axes>",
      "image/png": "[encoded data removed]"
     },
     "metadata": {
      "needs_background": "light",
      "image/png": {
       "width": 395,
       "height": 262
      }
     },
     "output_type": "display_data"
    }
   ]
  },
  {
   "cell_type": "code",
   "metadata": {
    "cell_id": "54963272-9de8-4260-8e81-81f94fa9a1dc",
    "tags": [],
    "deepnote_to_be_reexecuted": false,
    "source_hash": "5c3b116",
    "execution_start": 1645019942776,
    "execution_millis": 301,
    "deepnote_output_heights": [
     21.1875,
     264
    ],
    "deepnote_cell_type": "code"
   },
   "source": "sns.histplot(df_customers['Teenhome'])",
   "execution_count": 10,
   "outputs": [
    {
     "output_type": "execute_result",
     "execution_count": 10,
     "data": {
      "text/plain": "<AxesSubplot:xlabel='Teenhome', ylabel='Count'>"
     },
     "metadata": {}
    },
    {
     "data": {
      "text/plain": "<Figure size 432x288 with 1 Axes>",
      "image/png": "[encoded data removed]"
     },
     "metadata": {
      "needs_background": "light",
      "image/png": {
       "width": 395,
       "height": 262
      }
     },
     "output_type": "display_data"
    }
   ]
  },
  {
   "cell_type": "code",
   "metadata": {
    "cell_id": "bac0af80-3663-4434-9a68-a09a0ffce1db",
    "tags": [],
    "deepnote_to_be_reexecuted": false,
    "source_hash": "b51be019",
    "execution_start": 1645019943128,
    "execution_millis": 277,
    "deepnote_output_heights": [
     21.1875,
     264
    ],
    "deepnote_cell_type": "code"
   },
   "source": "sns.histplot(df_customers['Recency'])",
   "execution_count": 11,
   "outputs": [
    {
     "output_type": "execute_result",
     "execution_count": 11,
     "data": {
      "text/plain": "<AxesSubplot:xlabel='Recency', ylabel='Count'>"
     },
     "metadata": {}
    },
    {
     "data": {
      "text/plain": "<Figure size 432x288 with 1 Axes>",
      "image/png": "[encoded data removed]"
     },
     "metadata": {
      "needs_background": "light",
      "image/png": {
       "width": 389,
       "height": 262
      }
     },
     "output_type": "display_data"
    }
   ]
  },
  {
   "cell_type": "code",
   "metadata": {
    "cell_id": "f78add08-6832-4790-9c11-8f71dcb160fd",
    "tags": [],
    "deepnote_to_be_reexecuted": false,
    "source_hash": "4c2719e6",
    "execution_start": 1645019943456,
    "execution_millis": 253,
    "deepnote_output_heights": [
     21.1875,
     265
    ],
    "deepnote_cell_type": "code"
   },
   "source": "df_customers= df_customers[df_customers['NumWebVisitsMonth']<12]\nsns.histplot(df_customers['NumWebVisitsMonth'])",
   "execution_count": 12,
   "outputs": [
    {
     "output_type": "execute_result",
     "execution_count": 12,
     "data": {
      "text/plain": "<AxesSubplot:xlabel='NumWebVisitsMonth', ylabel='Count'>"
     },
     "metadata": {}
    },
    {
     "data": {
      "text/plain": "<Figure size 432x288 with 1 Axes>",
      "image/png": "[encoded data removed]"
     },
     "metadata": {
      "needs_background": "light",
      "image/png": {
       "width": 389,
       "height": 263
      }
     },
     "output_type": "display_data"
    }
   ]
  },
  {
   "cell_type": "code",
   "metadata": {
    "cell_id": "0a658ebd-51f0-4d6e-a683-62de53a3ad4a",
    "tags": [],
    "deepnote_to_be_reexecuted": false,
    "source_hash": "ca502809",
    "execution_start": 1645019943760,
    "execution_millis": 254,
    "deepnote_output_heights": [
     21.1875,
     264
    ],
    "deepnote_cell_type": "code"
   },
   "source": "df_customers= df_customers[df_customers['Complain']<1]\nsns.histplot(df_customers['Complain'])",
   "execution_count": 13,
   "outputs": [
    {
     "output_type": "execute_result",
     "execution_count": 13,
     "data": {
      "text/plain": "<AxesSubplot:xlabel='Complain', ylabel='Count'>"
     },
     "metadata": {}
    },
    {
     "data": {
      "text/plain": "<Figure size 432x288 with 1 Axes>",
      "image/png": "[encoded data removed]"
     },
     "metadata": {
      "needs_background": "light",
      "image/png": {
       "width": 395,
       "height": 262
      }
     },
     "output_type": "display_data"
    }
   ]
  },
  {
   "cell_type": "code",
   "metadata": {
    "cell_id": "aa70d8b6-fecc-4bcc-8b42-2c8e0031d4c6",
    "tags": [],
    "deepnote_to_be_reexecuted": false,
    "source_hash": "875c5b9b",
    "execution_start": 1645019944013,
    "execution_millis": 309,
    "deepnote_output_heights": [
     21.1875,
     265
    ],
    "deepnote_cell_type": "code"
   },
   "source": "sns.histplot(df_customers['Total_Purchases'])",
   "execution_count": 14,
   "outputs": [
    {
     "output_type": "execute_result",
     "execution_count": 14,
     "data": {
      "text/plain": "<AxesSubplot:xlabel='Total_Purchases', ylabel='Count'>"
     },
     "metadata": {}
    },
    {
     "data": {
      "text/plain": "<Figure size 432x288 with 1 Axes>",
      "image/png": "[encoded data removed]"
     },
     "metadata": {
      "needs_background": "light",
      "image/png": {
       "width": 389,
       "height": 263
      }
     },
     "output_type": "display_data"
    }
   ]
  },
  {
   "cell_type": "code",
   "metadata": {
    "cell_id": "d35ea069-9709-4cd1-a834-e3d7825a2c4a",
    "tags": [],
    "deepnote_to_be_reexecuted": false,
    "source_hash": "9e140a21",
    "execution_start": 1645019944321,
    "execution_millis": 359,
    "deepnote_output_heights": [
     null,
     280
    ],
    "deepnote_cell_type": "code"
   },
   "source": "\nest = smf.ols('Total_Purchases ~  C(Education) + C(Marital_Status) + Income + Kidhome + Teenhome + Recency + NumWebVisitsMonth ', df_customers).fit()\nprint(est.summary())\n\n#Residual plot \nplt.scatter(est.fittedvalues,est.resid)\nplt.ylabel('Residuals')\nplt.xlabel('Fitted values')\nplt.title('Residuals plot')\nplt.show()",
   "execution_count": 15,
   "outputs": [
    {
     "name": "stdout",
     "text": "                            OLS Regression Results                            \n==============================================================================\nDep. Variable:        Total_Purchases   R-squared:                       0.654\nModel:                            OLS   Adj. R-squared:                  0.652\nMethod:                 Least Squares   F-statistic:                     312.7\nDate:                Wed, 16 Feb 2022   Prob (F-statistic):               0.00\nTime:                        13:59:04   Log-Likelihood:                -6176.1\nNo. Observations:                2166   AIC:                         1.238e+04\nDf Residuals:                    2152   BIC:                         1.246e+04\nDf Model:                          13                                         \nCovariance Type:            nonrobust                                         \n=================================================================================================\n                                    coef    std err          t      P>|t|      [0.025      0.975]\n-------------------------------------------------------------------------------------------------\nIntercept                        -2.6821      0.694     -3.864      0.000      -4.043      -1.321\nC(Education)[T.Basic]             0.3800      0.663      0.573      0.567      -0.921       1.681\nC(Education)[T.Graduation]       -0.0832      0.327     -0.254      0.799      -0.725       0.559\nC(Education)[T.Master]           -0.3324      0.375     -0.887      0.375      -1.067       0.403\nC(Education)[T.PhD]              -0.2145      0.361     -0.594      0.553      -0.923       0.494\nC(Marital_Status)[T.Married]      0.1011      0.315      0.320      0.749      -0.518       0.720\nC(Marital_Status)[T.Single]      -0.1934      0.344     -0.563      0.574      -0.867       0.481\nC(Marital_Status)[T.Together]     0.0809      0.332      0.244      0.808      -0.570       0.732\nC(Marital_Status)[T.Widow]        0.0220      0.559      0.039      0.969      -1.073       1.117\nIncome                            0.0003   6.43e-06     41.215      0.000       0.000       0.000\nKidhome                          -3.5245      0.206    -17.126      0.000      -3.928      -3.121\nTeenhome                         -0.4092      0.173     -2.363      0.018      -0.749      -0.070\nRecency                           0.0033      0.003      1.066      0.287      -0.003       0.009\nNumWebVisitsMonth                 0.6174      0.054     11.355      0.000       0.511       0.724\n==============================================================================\nOmnibus:                      270.684   Durbin-Watson:                   2.049\nProb(Omnibus):                  0.000   Jarque-Bera (JB):              830.237\nSkew:                           0.640   Prob(JB):                    5.20e-181\nKurtosis:                       5.750   Cond. No.                     5.27e+05\n==============================================================================\n\nNotes:\n[1] Standard Errors assume that the covariance matrix of the errors is correctly specified.\n[2] The condition number is large, 5.27e+05. This might indicate that there are\nstrong multicollinearity or other numerical problems.\n",
     "output_type": "stream"
    },
    {
     "data": {
      "text/plain": "<Figure size 432x288 with 1 Axes>",
      "image/png": "[encoded data removed]"
     },
     "metadata": {
      "needs_background": "light",
      "image/png": {
       "width": 391,
       "height": 278
      }
     },
     "output_type": "display_data"
    }
   ]
  },
  {
   "cell_type": "code",
   "metadata": {
    "cell_id": "62c1a2c1-24aa-439b-b5c6-ab25a8ecc257",
    "tags": [],
    "deepnote_to_be_reexecuted": false,
    "source_hash": "b999cbca",
    "execution_start": 1645019944732,
    "execution_millis": 245,
    "deepnote_output_heights": [
     null,
     280
    ],
    "deepnote_cell_type": "code"
   },
   "source": "est = smf.ols('Total_Purchases ~  Income + Kidhome + Teenhome +  NumWebVisitsMonth ', df_customers).fit()\nprint(est.summary())\n\n#Residual plot \nplt.scatter(est.fittedvalues,est.resid)\nplt.ylabel('Residuals')\nplt.xlabel('Fitted values')\nplt.title('Residuals plot')\nplt.show()",
   "execution_count": 16,
   "outputs": [
    {
     "name": "stdout",
     "text": "                            OLS Regression Results                            \n==============================================================================\nDep. Variable:        Total_Purchases   R-squared:                       0.653\nModel:                            OLS   Adj. R-squared:                  0.652\nMethod:                 Least Squares   F-statistic:                     1017.\nDate:                Wed, 16 Feb 2022   Prob (F-statistic):               0.00\nTime:                        13:59:04   Log-Likelihood:                -6178.4\nNo. Observations:                2166   AIC:                         1.237e+04\nDf Residuals:                    2161   BIC:                         1.240e+04\nDf Model:                           4                                         \nCovariance Type:            nonrobust                                         \n=====================================================================================\n                        coef    std err          t      P>|t|      [0.025      0.975]\n-------------------------------------------------------------------------------------\nIntercept            -2.5307      0.547     -4.626      0.000      -3.604      -1.458\nIncome                0.0003   6.23e-06     42.331      0.000       0.000       0.000\nKidhome              -3.5405      0.204    -17.337      0.000      -3.941      -3.140\nTeenhome             -0.4199      0.170     -2.464      0.014      -0.754      -0.086\nNumWebVisitsMonth     0.6157      0.054     11.358      0.000       0.509       0.722\n==============================================================================\nOmnibus:                      266.677   Durbin-Watson:                   2.043\nProb(Omnibus):                  0.000   Jarque-Bera (JB):              807.259\nSkew:                           0.635   Prob(JB):                    5.08e-176\nKurtosis:                       5.708   Cond. No.                     3.40e+05\n==============================================================================\n\nNotes:\n[1] Standard Errors assume that the covariance matrix of the errors is correctly specified.\n[2] The condition number is large, 3.4e+05. This might indicate that there are\nstrong multicollinearity or other numerical problems.\n",
     "output_type": "stream"
    },
    {
     "data": {
      "text/plain": "<Figure size 432x288 with 1 Axes>",
      "image/png": "[encoded data removed]"
     },
     "metadata": {
      "needs_background": "light",
      "image/png": {
       "width": 391,
       "height": 278
      }
     },
     "output_type": "display_data"
    }
   ]
  },
  {
   "cell_type": "markdown",
   "source": "# Introduction\n\nResampling methods are techniques used in modern statistical analysis to take multiple samples from our original samples in order to refit a model multiple times to get more information about the fitted model. For example, in order to estimate the variability of a linear regression fit, it is possible to repeatedly draw different samples from the training data, fit a linear regression to each one of the samples, and then examine the variation of the resulting fits. This approach may allow us to obtain information that would not be available from fitting the model only\nonce using the original training sample. Also, the resampling methods allow the model performance assesment and the model selection processes to be done while mitigating the biases that can come from the sample used for the statistical analysis.",
   "metadata": {
    "cell_id": "4969faae-2988-49e4-80b2-691ad42e9eb3",
    "tags": [],
    "deepnote_cell_type": "markdown"
   }
  },
  {
   "cell_type": "markdown",
   "source": "# Cross-validation",
   "metadata": {
    "cell_id": "ba088c21-44d1-4460-a400-46593ec2c065",
    "tags": [],
    "deepnote_cell_type": "markdown"
   }
  },
  {
   "cell_type": "markdown",
   "source": "## Validation approach\n\nIn order to asses the prediction performance of a model, we have talked about the importance of separating the sample into a training set to fit our model and a validation set or hold-out set that is hidden from the model and used to see how the model does when predicting observations that it has not seen using the validation set MSE (or one of the other error metrics that we saw before). However, until now we have only talked about partitioning our data once into these two types of sets and we did not use a specific criteria to make that partition. The problem of making a single partition is that the validation MSE that is gotten can be different if the data was partitioned in a different way. Let us see an example that ilustrates why making a single partitioning of the data can lead to biased results in the validation MSE:\n\n<figure>\n<img src=\"/work/indu5012_case_7/fig/Validation_bias.PNG\" align=\"center\"/> \n\n<figcaption align = \"center\"><b>Fig. 7.1 - Validation MSE for a polynomial regression. The graph in the left shows the results when partitioning the data only once and the one in the right shows the results when making ten different data splits</b>.<i>Taken from (James, G., Witten, D., Hastie, T., & Tibshirani, R. (2013))</i></figcaption>\n</figure> ",
   "metadata": {
    "cell_id": "3d6a3161-c71c-4eb3-81f5-a5d023502044",
    "tags": [],
    "deepnote_cell_type": "markdown"
   }
  },
  {
   "cell_type": "markdown",
   "source": "### Leave-one-out cross-validation\n\nIn order to mitigate the bias caused by the partitioning of the data, one of the methods of resampling is the leave-one-out cross-validation (LOOCV). In this method, one of the observations is chosen to be the validation set and all of the other observations in the dataset will be in the training set. Then, the fitted model will predict the value for the output variable in the only observation in the validation set and the validation MSE is calculated. Then, the MSE for the $i^{th}$ observation will be calculated as: $MSE_i=(y_i-\\hat y_i)^2$. this process is repeated until all of the observations have been used in the validation set. The following example helps to illustrate how the LOOCV works:  \n\n<figure>\n<img src=\"/work/indu5012_case_7/fig/LOOCV.PNG\" align=\"center\"/> \n\n<figcaption align = \"center\"><b>Fig. 7.2 - Leave-one-out cross-validation</b>.<i>Taken from (James, G., Witten, D., Hastie, T., & Tibshirani, R. (2013))</i></figcaption>\n</figure> \n\nWhen the process is finished, an average MSE is calculated by averaging all of the $n$ MSE's that were obtained during the LOOCV. By averaging these validation MSE's an error metric with less bias is calculated. Using the average validation MSE, now the models can be compared in a fairer way. The average validation MSE is calculated as: <center>$CV_{LOO}=\\frac{1}{n}\\sum_{i=1}^n MSE_i$ </center>\n\nLet us see how we can code the LOOCV while using the Boston housing data:",
   "metadata": {
    "cell_id": "a06e7651-9968-4e19-9e02-26bd381a817e",
    "tags": [],
    "deepnote_cell_type": "markdown"
   }
  },
  {
   "cell_type": "code",
   "metadata": {
    "cell_id": "4b649615-f8ec-4a5a-b97a-b8de165787d9",
    "tags": [],
    "deepnote_to_be_reexecuted": false,
    "source_hash": "ef8288a1",
    "execution_start": 1645019945036,
    "execution_millis": 289335,
    "deepnote_output_heights": [
     280,
     280
    ],
    "deepnote_cell_type": "code"
   },
   "source": "#Definition of arrays that will contain the squared differences\nmse_comp = np.zeros(len(df_customers)) \nmse_mod = np.zeros(len(df_customers))\n\nfor i in range(len(df_customers)):\n    #Indexes of the validation set (all but i)\n    idx_train = np.asarray(list(set(range(len(df_customers))) - set([i])))\n    \n    #Dataframe partition into training and validation set using their indexes\n    df_customers_val = df_customers.iloc[[i]]\n    #print(df_customers_val)\n    df_customers_train = df_customers.iloc[idx_train]\n    \n    #Complete multiple linear regression model\n    est_comp = smf.ols('Total_Purchases ~  C(Education) + C(Marital_Status) + Income + Kidhome + Teenhome + Recency + NumWebVisitsMonth ', df_customers_train).fit(cov_type='HC1')\n    #Modified multiple linear regression model\n    est_mod = smf.ols('Total_Purchases ~  Income + Kidhome + Teenhome +  NumWebVisitsMonth ', df_customers_train).fit(cov_type='HC1')\n    \n    #Storing the squared differences between the fitted price and the real price\n    mse_comp[i] = np.mean((est_comp.predict(df_customers_val)-df_customers_val[\"Total_Purchases\"])**2)\n    mse_mod [i] = np.mean((est_mod.predict(df_customers_val)-df_customers_val[\"Total_Purchases\"])**2)\n\nplt.hist(mse_mod,bins=10)\nplt.ylabel('Frequency')\nplt.xlabel('MSE')\nplt.title('MSE for modified model')\nplt.xlim(0, 500)\n\nplt.show()\n\nplt.hist(mse_comp,bins=10)\nplt.ylabel('Frequency')\nplt.xlabel('MSE')\nplt.title('MSE for complete model')\nplt.xlim(0, 500)\nplt.show()\n\nprint(\"Modified model LOOCV MSE:\", np.mean(mse_mod) )\nprint(\"Complete model LOOCV MSE:\", np.mean(mse_comp) )",
   "execution_count": 17,
   "outputs": [
    {
     "data": {
      "text/plain": "<Figure size 432x288 with 1 Axes>",
      "image/png": "[encoded data removed]"
     },
     "metadata": {
      "needs_background": "light",
      "image/png": {
       "width": 404,
       "height": 278
      }
     },
     "output_type": "display_data"
    },
    {
     "data": {
      "text/plain": "<Figure size 432x288 with 1 Axes>",
      "image/png": "[encoded data removed]"
     },
     "metadata": {
      "needs_background": "light",
      "image/png": {
       "width": 404,
       "height": 278
      }
     },
     "output_type": "display_data"
    },
    {
     "name": "stdout",
     "text": "Modified model LOOCV MSE: 17.697735454728356\nComplete model LOOCV MSE: 17.80710545711573\n",
     "output_type": "stream"
    }
   ]
  },
  {
   "cell_type": "markdown",
   "source": "The LOOCV method has some clear advantages over the validation method that we have previously seen. First, this method has far less bias in its performance metrics due to every training set containing $n-1$ observations, only one less than the complete dataset. Therefore, the validation error will not have such an overestimation of the validation error when compared to other validation approach. The second advantage of the LOOCV is that there is no randomness when selecting the validation and training sets as all of the observations will be a part, at some point, of the validation set and the training set due to the way the data splits are made.\n\nHowever, the LOOCV method can be computationally inefficient as the model has to be fit $n$ times. This fact is specially problematic when $n$ is extremely large. On that account, let us see a different approach for the cross-validation process that solves this problem.",
   "metadata": {
    "cell_id": "11615a74-f3c3-43a5-b510-ac13c1053422",
    "tags": [],
    "deepnote_cell_type": "markdown"
   }
  },
  {
   "cell_type": "markdown",
   "source": "## $k$-fold cross-validation",
   "metadata": {
    "cell_id": "b0d729f2-7f73-42ab-821e-4171e0e636c1",
    "tags": [],
    "deepnote_cell_type": "markdown"
   }
  },
  {
   "cell_type": "markdown",
   "source": "The $k$-fold CV approach consists in partitioning the data randomly into $k$ different data splits, or folds, of approximately the same size. Then, the first fold is used as the validation set and the other $k-1$ folds are used as the training set. After fitting the model, the first validation MSE, $MSE_1$, is calculated over the validation set. This process is repeated $k$ times, where each time a different fold is used as the validation set and the other $k-1$ sets are used as training set. Then, the $k$-fold cross-validation MSE is calculated as the mean of the $k$ validation MSE's : <center>$CV_{(k)}=\\frac{1}{n}\\sum_{i=1}^n MSE_i$ </center>\n\nNotice that the LOOCV process is a specific case of a $k$-fold cross-validation process where $k=n$. When using $k$-fold CV, usually one uses $k=5$ or $k=10$. When using $k$-fold CV this way, the process becomes more viable than LOOCV, specially when $n$ is really big.\n\nA graphical example of a 5-fold cross-validation process can be seen in the following image:\n\n<figure>\n<img src=\"/work/indu5012_case_7/fig/K-fold.PNG\" align=\"center\"/> \n\n<figcaption align = \"center\"><b>Fig. 7.3 - K-fold cross-validation</b>.<i>Taken from (James, G., Witten, D., Hastie, T., & Tibshirani, R. (2013))</i></figcaption>\n</figure> \n\nNow, when comparing the the a LOOCV and a 10-fold CV in terms of the obtained MSE's, the results can be very similar as shown in the following image:\n\n<figure>\n<img src=\"/work/indu5012_case_7/fig/LOOCV vs K-fold.PNG\" align=\"center\"/> \n\n<figcaption align = \"center\"><b>Fig. 7.4 - LOOCV vs. 9 different K-fold cross-validations</b>.<i>Taken from (James, G., Witten, D., Hastie, T., & Tibshirani, R. (2013))</i></figcaption>\n</figure> \n\nWhen taking these comparisons into account the $k$-fold cross-validation is generally a better aproach than LOOCV. Let us see how the $k$-fold cross-validation can be implemented:",
   "metadata": {
    "cell_id": "795514e8-6f36-4756-be6c-b941ca14bb66",
    "tags": [],
    "deepnote_cell_type": "markdown"
   }
  },
  {
   "cell_type": "code",
   "source": "\n#Number of folds\nk=20\n\n#Use of KFold function\nkf = KFold(n_splits=k, shuffle = True)\n\n#Definition of arrays that will contain the squared differences\nmse_comp = np.zeros(k) \nmse_mod = np.zeros(k)\n\nfor i in range(k):\n    result = next(kf.split(df_customers), None)\n\n    #Dataframe partition into training and validation set using their indexes\n    df_customers_train = df_customers.iloc[result[0]]\n    df_customers_val = df_customers.iloc[result[1]]\n    \n    #Complete multiple linear regression model\n    est_comp = smf.ols('Total_Purchases ~  C(Education) + C(Marital_Status) + Income + Kidhome + Teenhome + Recency + NumWebVisitsMonth ', df_customers_train).fit(cov_type='HC1')\n    #Modified multiple linear regression model\n    est_mod = smf.ols('Total_Purchases ~  Income + Kidhome + Teenhome +  NumWebVisitsMonth ', df_customers_train).fit(cov_type='HC1')\n    \n    #Storing the squared differences between the fitted price and the real price\n    mse_comp[i] = np.mean((est_comp.predict(df_customers_val)-df_customers_val[\"Total_Purchases\"])**2)\n    mse_mod [i] = np.mean((est_mod.predict(df_customers_val)-df_customers_val[\"Total_Purchases\"])**2)\n\nplt.hist(mse_mod, bins= 'auto')\nplt.ylabel('Frequency')\nplt.xlabel('MSE')\nplt.title('MSE for modified model')\nplt.show()\n\nplt.hist(mse_comp, bins= 'auto')\nplt.ylabel('Frequency')\nplt.xlabel('MSE')\nplt.title('MSE for complete model')\nplt.show()\n\nprint(\"Modified model KFCV MSE:\", np.mean(mse_mod) )\nprint(\"Complete model KFCV MSE:\", np.mean(mse_comp) )\n\n    ",
   "metadata": {
    "cell_id": "2252701f-9331-4211-91aa-4b669f9b6c35",
    "tags": [],
    "deepnote_to_be_reexecuted": false,
    "source_hash": "bfe1d8d7",
    "execution_start": 1645020234370,
    "execution_millis": 3076,
    "deepnote_output_heights": [
     280,
     280
    ],
    "deepnote_cell_type": "code"
   },
   "outputs": [
    {
     "data": {
      "text/plain": "<Figure size 432x288 with 1 Axes>",
      "image/png": "[encoded data removed]"
     },
     "metadata": {
      "needs_background": "light",
      "image/png": {
       "width": 376,
       "height": 278
      }
     },
     "output_type": "display_data"
    },
    {
     "data": {
      "text/plain": "<Figure size 432x288 with 1 Axes>",
      "image/png": "[encoded data removed]"
     },
     "metadata": {
      "needs_background": "light",
      "image/png": {
       "width": 376,
       "height": 278
      }
     },
     "output_type": "display_data"
    },
    {
     "name": "stdout",
     "text": "Modified model KFCV MSE: 16.228585714534084\nComplete model KFCV MSE: 16.31360326263535\n",
     "output_type": "stream"
    }
   ],
   "execution_count": 18
  },
  {
   "cell_type": "markdown",
   "source": "## Bootstrap",
   "metadata": {
    "cell_id": "3aa6b946-72b9-46ec-8cbc-f44cfb1584ea",
    "tags": [],
    "deepnote_cell_type": "markdown"
   }
  },
  {
   "cell_type": "markdown",
   "source": "We have talked about how the estimation of the models can change when different samples are taken, and the variances of the estimation are a quantification of how much the estimation changes when different samples are used to fit the model. However, sometimes it is not easy to take different samples to see how the model's estimation and performance changes when different samples are used. The **bootstrap** method is a powerful concept that can help to quantify this uncertainty when having only one sample. This tool refers to the simulation of different samples using the only sample that one has taken. In order to generate the multiple samples, one can sample $n$ observations from the original data, and this sampling is made with replacement, which means that the same observation can be multiple times in the bootstrap sample. A graphical example of different bootstrap samples can be seen in the following image:\n\n<figure>\n<img src=\"/work/indu5012_case_7/fig/Bootstrap.PNG\" align=\"center\"/> \n\n<figcaption align = \"center\"><b>Fig. 7.5 - B bootstrap samples with 3 observations generated with an original sample with three observations</b>.<i>Taken from (James, G., Witten, D., Hastie, T., & Tibshirani, R. (2013))</i></figcaption>\n</figure> \n\nThen, after generating the multiple bootstrap samples, they can be used as emulations of different samples taken from the original population. If the sample you had was a good representation of the original population, the bootstrap samples generated with the original sample are a good representation of different samples you could get from the original population. Now, let us see how we can use the bootstrap resampling method and what can be done with it:\n",
   "metadata": {
    "cell_id": "32018446-e7c1-4550-933c-b7313405a8a7",
    "tags": [],
    "deepnote_cell_type": "markdown"
   }
  },
  {
   "cell_type": "code",
   "source": "iterations = 10000\nn= 506\n\nbeta_Income = np.zeros(iterations)\nbeta_Kidhome = np.zeros(iterations)\nbeta_NumWebVisitsMonth = np.zeros(iterations)\n\nfor i in range(iterations):\n    idx = np.random.choice(range(df_customers.shape[0]),n)\n    df_customers_boostrap = df_customers.iloc[idx,:]\n    est_mod = smf.ols('Total_Purchases ~  C(Education) + C(Marital_Status) + Income + Kidhome + Teenhome + Recency + NumWebVisitsMonth ', df_customers_boostrap).fit(cov_type='HC1')\n    beta_Income[i] = est_mod.params[2]\n    beta_Kidhome[i] = est_mod.params[3]\n    beta_NumWebVisitsMonth[i] = est_mod.params[6]\n\n\nplt.hist(beta_Income, bins= 'auto')\nplt.ylabel('Frequency')\nplt.xlabel('beta_Income')\nplt.title('Distribution ofbeta_Income')\nplt.show()\n\nplt.hist(beta_Kidhome, bins= 'auto')\nplt.ylabel('Frequency')\nplt.xlabel('beta_Kidhome')\nplt.title('Distribution of beta_Kidhome')\nplt.show()\n\nplt.hist(beta_NumWebVisitsMonth, bins= 'auto')\nplt.ylabel('Frequency')\nplt.xlabel('beta_NumWebVisitsMonth')\nplt.title('Distribution of beta_NumWebVisitsMonth')\nplt.show()\n    ",
   "metadata": {
    "cell_id": "8df21a1e-0008-4dc6-a9e7-bd2261f340a0",
    "tags": [],
    "deepnote_to_be_reexecuted": false,
    "source_hash": "857b742a",
    "execution_start": 1645020237457,
    "execution_millis": 279525,
    "deepnote_output_heights": [
     281,
     281,
     281
    ],
    "deepnote_cell_type": "code"
   },
   "outputs": [
    {
     "data": {
      "text/plain": "<Figure size 432x288 with 1 Axes>",
      "image/png": "[encoded data removed]"
     },
     "metadata": {
      "needs_background": "light",
      "image/png": {
       "width": 389,
       "height": 279
      }
     },
     "output_type": "display_data"
    },
    {
     "data": {
      "text/plain": "<Figure size 432x288 with 1 Axes>",
      "image/png": "[encoded data removed]"
     },
     "metadata": {
      "needs_background": "light",
      "image/png": {
       "width": 389,
       "height": 279
      }
     },
     "output_type": "display_data"
    },
    {
     "data": {
      "text/plain": "<Figure size 432x288 with 1 Axes>",
      "image/png": "[encoded data removed]"
     },
     "metadata": {
      "needs_background": "light",
      "image/png": {
       "width": 389,
       "height": 279
      }
     },
     "output_type": "display_data"
    }
   ],
   "execution_count": 19
  },
  {
   "cell_type": "code",
   "source": "sns.boxplot(y=beta_Income)\nplt.ylabel('Value')\nplt.xlabel('beta_Income')\nplt.title('Distribution of beta_Income')\nplt.show()\n\nsns.boxplot(y=beta_Kidhome)\nplt.ylabel('Value')\nplt.xlabel('beta_Kidhome')\nplt.title('Distribution of beta_Kidhome')\nplt.show()\n\nsns.boxplot(y=beta_NumWebVisitsMonth)\nplt.ylabel('Value')\nplt.xlabel('beta_NumWebVisitsMonth')\nplt.title('Distribution of beta_NumWebVisitsMonth')\nplt.show()\n",
   "metadata": {
    "cell_id": "b42fb622-0016-40fb-a94d-cdd6686a25dd",
    "tags": [],
    "deepnote_to_be_reexecuted": false,
    "source_hash": "7123da24",
    "execution_start": 1645020517022,
    "deepnote_output_heights": [
     271,
     271,
     271
    ],
    "execution_millis": 572,
    "deepnote_cell_type": "code"
   },
   "outputs": [
    {
     "data": {
      "text/plain": "<Figure size 432x288 with 1 Axes>",
      "image/png": "[encoded data removed]"
     },
     "metadata": {
      "needs_background": "light",
      "image/png": {
       "width": 384,
       "height": 269
      }
     },
     "output_type": "display_data"
    },
    {
     "data": {
      "text/plain": "<Figure size 432x288 with 1 Axes>",
      "image/png": "[encoded data removed]"
     },
     "metadata": {
      "needs_background": "light",
      "image/png": {
       "width": 384,
       "height": 269
      }
     },
     "output_type": "display_data"
    },
    {
     "data": {
      "text/plain": "<Figure size 432x288 with 1 Axes>",
      "image/png": "[encoded data removed]"
     },
     "metadata": {
      "needs_background": "light",
      "image/png": {
       "width": 384,
       "height": 269
      }
     },
     "output_type": "display_data"
    }
   ],
   "execution_count": 20
  },
  {
   "cell_type": "code",
   "source": "print(est_mod.params)",
   "metadata": {
    "cell_id": "73ebe285-2fbd-4995-a5bd-fd1e2b81b4ad",
    "tags": [],
    "deepnote_to_be_reexecuted": false,
    "source_hash": "7255f150",
    "execution_start": 1645020517600,
    "execution_millis": 4,
    "deepnote_cell_type": "code"
   },
   "outputs": [
    {
     "name": "stdout",
     "text": "Intercept                       -1.146787\nC(Education)[T.Basic]            0.255249\nC(Education)[T.Graduation]       0.237258\nC(Education)[T.Master]           0.074230\nC(Education)[T.PhD]              0.576688\nC(Marital_Status)[T.Married]     1.002892\nC(Marital_Status)[T.Single]     -0.013552\nC(Marital_Status)[T.Together]    1.538368\nC(Marital_Status)[T.Widow]       0.454590\nIncome                           0.000230\nKidhome                         -3.391473\nTeenhome                         0.060897\nRecency                          0.012022\nNumWebVisitsMonth                0.358207\ndtype: float64\n",
     "output_type": "stream"
    }
   ],
   "execution_count": 21
  },
  {
   "cell_type": "markdown",
   "source": "As it can be seen, using the bootstrap method you can see how the estimation of the coefficients of a model vary when different samples are taken. Also, for example, you can calculate the standard error or the variance of the estimation of a specific coefficient, even if it is automatically calculated by the linear regression model:",
   "metadata": {
    "cell_id": "bc8a7ca6-25eb-43aa-a40d-e393afa5df2b",
    "tags": [],
    "deepnote_cell_type": "markdown"
   }
  },
  {
   "cell_type": "code",
   "source": "#Standard deviation of bootstrap-generated coefficients\nprint(\"beta_Income Std: \", np.std(beta_Income))\nprint(\"beta_Kidhome Std: \", np.std(beta_Kidhome))\nprint(\"beta_NumWebVisitsMonth Std: \", np.std(beta_NumWebVisitsMonth))\n\n#Standard deviation calculated by the model\nest_mod = smf.ols(\"Total_Purchases ~  C(Education) + C(Marital_Status) + Income + Kidhome + Teenhome + Recency + NumWebVisitsMonth\", df_customers).fit(cov_type='HC1')\nest_mod.summary()",
   "metadata": {
    "cell_id": "c9c5ca08-106c-43b9-bcdb-9b338f94afa1",
    "tags": [],
    "deepnote_to_be_reexecuted": false,
    "source_hash": "65bed1a9",
    "execution_start": 1645020517652,
    "execution_millis": 43,
    "deepnote_output_heights": [
     null,
     611
    ],
    "deepnote_cell_type": "code"
   },
   "outputs": [
    {
     "name": "stdout",
     "text": "beta_Income Std:  0.6984653922372315\nbeta_Kidhome Std:  0.7906943012102173\nbeta_NumWebVisitsMonth Std:  0.7322233187193076\n",
     "output_type": "stream"
    },
    {
     "output_type": "execute_result",
     "execution_count": 22,
     "data": {
      "text/plain": "<class 'statsmodels.iolib.summary.Summary'>\n\"\"\"\n                            OLS Regression Results                            \n==============================================================================\nDep. Variable:        Total_Purchases   R-squared:                       0.654\nModel:                            OLS   Adj. R-squared:                  0.652\nMethod:                 Least Squares   F-statistic:                     330.0\nDate:                Wed, 16 Feb 2022   Prob (F-statistic):               0.00\nTime:                        14:08:37   Log-Likelihood:                -6176.1\nNo. Observations:                2166   AIC:                         1.238e+04\nDf Residuals:                    2152   BIC:                         1.246e+04\nDf Model:                          13                                         \nCovariance Type:                  HC1                                         \n=================================================================================================\n                                    coef    std err          z      P>|z|      [0.025      0.975]\n-------------------------------------------------------------------------------------------------\nIntercept                        -2.6821      0.992     -2.704      0.007      -4.626      -0.738\nC(Education)[T.Basic]             0.3800      0.550      0.691      0.489      -0.698       1.457\nC(Education)[T.Graduation]       -0.0832      0.331     -0.251      0.802      -0.732       0.566\nC(Education)[T.Master]           -0.3324      0.376     -0.884      0.377      -1.069       0.404\nC(Education)[T.PhD]              -0.2145      0.376     -0.571      0.568      -0.950       0.521\nC(Marital_Status)[T.Married]      0.1011      0.323      0.313      0.754      -0.532       0.734\nC(Marital_Status)[T.Single]      -0.1934      0.350     -0.553      0.580      -0.879       0.492\nC(Marital_Status)[T.Together]     0.0809      0.333      0.243      0.808      -0.572       0.734\nC(Marital_Status)[T.Widow]        0.0220      0.593      0.037      0.970      -1.140       1.184\nIncome                            0.0003   1.03e-05     25.722      0.000       0.000       0.000\nKidhome                          -3.5245      0.210    -16.772      0.000      -3.936      -3.113\nTeenhome                         -0.4092      0.197     -2.073      0.038      -0.796      -0.022\nRecency                           0.0033      0.003      1.036      0.300      -0.003       0.010\nNumWebVisitsMonth                 0.6174      0.085      7.281      0.000       0.451       0.784\n==============================================================================\nOmnibus:                      270.684   Durbin-Watson:                   2.049\nProb(Omnibus):                  0.000   Jarque-Bera (JB):              830.237\nSkew:                           0.640   Prob(JB):                    5.20e-181\nKurtosis:                       5.750   Cond. No.                     5.27e+05\n==============================================================================\n\nNotes:\n[1] Standard Errors are heteroscedasticity robust (HC1)\n[2] The condition number is large, 5.27e+05. This might indicate that there are\nstrong multicollinearity or other numerical problems.\n\"\"\"",
      "text/html": "<table class=\"simpletable\">\n<caption>OLS Regression Results</caption>\n<tr>\n  <th>Dep. Variable:</th>     <td>Total_Purchases</td> <th>  R-squared:         </th> <td>   0.654</td> \n</tr>\n<tr>\n  <th>Model:</th>                   <td>OLS</td>       <th>  Adj. R-squared:    </th> <td>   0.652</td> \n</tr>\n<tr>\n  <th>Method:</th>             <td>Least Squares</td>  <th>  F-statistic:       </th> <td>   330.0</td> \n</tr>\n<tr>\n  <th>Date:</th>             <td>Wed, 16 Feb 2022</td> <th>  Prob (F-statistic):</th>  <td>  0.00</td>  \n</tr>\n<tr>\n  <th>Time:</th>                 <td>14:08:37</td>     <th>  Log-Likelihood:    </th> <td> -6176.1</td> \n</tr>\n<tr>\n  <th>No. Observations:</th>      <td>  2166</td>      <th>  AIC:               </th> <td>1.238e+04</td>\n</tr>\n<tr>\n  <th>Df Residuals:</th>          <td>  2152</td>      <th>  BIC:               </th> <td>1.246e+04</td>\n</tr>\n<tr>\n  <th>Df Model:</th>              <td>    13</td>      <th>                     </th>     <td> </td>    \n</tr>\n<tr>\n  <th>Covariance Type:</th>         <td>HC1</td>       <th>                     </th>     <td> </td>    \n</tr>\n</table>\n<table class=\"simpletable\">\n<tr>\n                <td></td>                   <th>coef</th>     <th>std err</th>      <th>z</th>      <th>P>|z|</th>  <th>[0.025</th>    <th>0.975]</th>  \n</tr>\n<tr>\n  <th>Intercept</th>                     <td>   -2.6821</td> <td>    0.992</td> <td>   -2.704</td> <td> 0.007</td> <td>   -4.626</td> <td>   -0.738</td>\n</tr>\n<tr>\n  <th>C(Education)[T.Basic]</th>         <td>    0.3800</td> <td>    0.550</td> <td>    0.691</td> <td> 0.489</td> <td>   -0.698</td> <td>    1.457</td>\n</tr>\n<tr>\n  <th>C(Education)[T.Graduation]</th>    <td>   -0.0832</td> <td>    0.331</td> <td>   -0.251</td> <td> 0.802</td> <td>   -0.732</td> <td>    0.566</td>\n</tr>\n<tr>\n  <th>C(Education)[T.Master]</th>        <td>   -0.3324</td> <td>    0.376</td> <td>   -0.884</td> <td> 0.377</td> <td>   -1.069</td> <td>    0.404</td>\n</tr>\n<tr>\n  <th>C(Education)[T.PhD]</th>           <td>   -0.2145</td> <td>    0.376</td> <td>   -0.571</td> <td> 0.568</td> <td>   -0.950</td> <td>    0.521</td>\n</tr>\n<tr>\n  <th>C(Marital_Status)[T.Married]</th>  <td>    0.1011</td> <td>    0.323</td> <td>    0.313</td> <td> 0.754</td> <td>   -0.532</td> <td>    0.734</td>\n</tr>\n<tr>\n  <th>C(Marital_Status)[T.Single]</th>   <td>   -0.1934</td> <td>    0.350</td> <td>   -0.553</td> <td> 0.580</td> <td>   -0.879</td> <td>    0.492</td>\n</tr>\n<tr>\n  <th>C(Marital_Status)[T.Together]</th> <td>    0.0809</td> <td>    0.333</td> <td>    0.243</td> <td> 0.808</td> <td>   -0.572</td> <td>    0.734</td>\n</tr>\n<tr>\n  <th>C(Marital_Status)[T.Widow]</th>    <td>    0.0220</td> <td>    0.593</td> <td>    0.037</td> <td> 0.970</td> <td>   -1.140</td> <td>    1.184</td>\n</tr>\n<tr>\n  <th>Income</th>                        <td>    0.0003</td> <td> 1.03e-05</td> <td>   25.722</td> <td> 0.000</td> <td>    0.000</td> <td>    0.000</td>\n</tr>\n<tr>\n  <th>Kidhome</th>                       <td>   -3.5245</td> <td>    0.210</td> <td>  -16.772</td> <td> 0.000</td> <td>   -3.936</td> <td>   -3.113</td>\n</tr>\n<tr>\n  <th>Teenhome</th>                      <td>   -0.4092</td> <td>    0.197</td> <td>   -2.073</td> <td> 0.038</td> <td>   -0.796</td> <td>   -0.022</td>\n</tr>\n<tr>\n  <th>Recency</th>                       <td>    0.0033</td> <td>    0.003</td> <td>    1.036</td> <td> 0.300</td> <td>   -0.003</td> <td>    0.010</td>\n</tr>\n<tr>\n  <th>NumWebVisitsMonth</th>             <td>    0.6174</td> <td>    0.085</td> <td>    7.281</td> <td> 0.000</td> <td>    0.451</td> <td>    0.784</td>\n</tr>\n</table>\n<table class=\"simpletable\">\n<tr>\n  <th>Omnibus:</th>       <td>270.684</td> <th>  Durbin-Watson:     </th> <td>   2.049</td> \n</tr>\n<tr>\n  <th>Prob(Omnibus):</th> <td> 0.000</td>  <th>  Jarque-Bera (JB):  </th> <td> 830.237</td> \n</tr>\n<tr>\n  <th>Skew:</th>          <td> 0.640</td>  <th>  Prob(JB):          </th> <td>5.20e-181</td>\n</tr>\n<tr>\n  <th>Kurtosis:</th>      <td> 5.750</td>  <th>  Cond. No.          </th> <td>5.27e+05</td> \n</tr>\n</table><br/><br/>Notes:<br/>[1] Standard Errors are heteroscedasticity robust (HC1)<br/>[2] The condition number is large, 5.27e+05. This might indicate that there are<br/>strong multicollinearity or other numerical problems."
     },
     "metadata": {}
    }
   ],
   "execution_count": 22
  },
  {
   "cell_type": "markdown",
   "source": "## California Housing Problem\n\nWe can apply these methods in any lineal regression and any dataset you see fit.",
   "metadata": {
    "cell_id": "5fe049e3-2185-47cd-b547-f8c6f9cbed1f",
    "tags": [],
    "deepnote_cell_type": "markdown"
   }
  },
  {
   "cell_type": "code",
   "source": "from sklearn.datasets import fetch_california_housing\n\ncalifornia_housing = fetch_california_housing()\ndf_california = pd.DataFrame(california_housing.data,columns=california_housing.feature_names)\ndf_california['Price']=pd.Series(california_housing.target*1000)\ndf_california = df_california[df_california['Price']<=4900]\ndf_california['MedInc']=df_california['MedInc']*1000\ndf_california.dropna(inplace=True)\ndf_california.head(3)\n\n",
   "metadata": {
    "cell_id": "ba857817-74d4-409b-bff6-93680c60151f",
    "tags": [],
    "deepnote_to_be_reexecuted": false,
    "source_hash": "217c81d3",
    "execution_start": 1645020555598,
    "execution_millis": 147,
    "deepnote_cell_type": "code"
   },
   "outputs": [
    {
     "output_type": "execute_result",
     "execution_count": 24,
     "data": {
      "application/vnd.deepnote.dataframe.v3+json": {
       "column_count": 9,
       "row_count": 3,
       "columns": [
        {
         "name": "MedInc",
         "dtype": "float64",
         "stats": {
          "unique_count": 3,
          "nan_count": 0,
          "min": "7257.4",
          "max": "8325.2",
          "histogram": [
           {
            "bin_start": 7257.4,
            "bin_end": 7364.179999999999,
            "count": 1
           },
           {
            "bin_start": 7364.179999999999,
            "bin_end": 7470.96,
            "count": 0
           },
           {
            "bin_start": 7470.96,
            "bin_end": 7577.74,
            "count": 0
           },
           {
            "bin_start": 7577.74,
            "bin_end": 7684.52,
            "count": 0
           },
           {
            "bin_start": 7684.52,
            "bin_end": 7791.3,
            "count": 0
           },
           {
            "bin_start": 7791.3,
            "bin_end": 7898.08,
            "count": 0
           },
           {
            "bin_start": 7898.08,
            "bin_end": 8004.860000000001,
            "count": 0
           },
           {
            "bin_start": 8004.860000000001,
            "bin_end": 8111.64,
            "count": 0
           },
           {
            "bin_start": 8111.64,
            "bin_end": 8218.42,
            "count": 0
           },
           {
            "bin_start": 8218.42,
            "bin_end": 8325.2,
            "count": 2
           }
          ]
         }
        },
        {
         "name": "HouseAge",
         "dtype": "float64",
         "stats": {
          "unique_count": 3,
          "nan_count": 0,
          "min": "21.0",
          "max": "52.0",
          "histogram": [
           {
            "bin_start": 21,
            "bin_end": 24.1,
            "count": 1
           },
           {
            "bin_start": 24.1,
            "bin_end": 27.2,
            "count": 0
           },
           {
            "bin_start": 27.2,
            "bin_end": 30.3,
            "count": 0
           },
           {
            "bin_start": 30.3,
            "bin_end": 33.4,
            "count": 0
           },
           {
            "bin_start": 33.4,
            "bin_end": 36.5,
            "count": 0
           },
           {
            "bin_start": 36.5,
            "bin_end": 39.6,
            "count": 0
           },
           {
            "bin_start": 39.6,
            "bin_end": 42.7,
            "count": 1
           },
           {
            "bin_start": 42.7,
            "bin_end": 45.8,
            "count": 0
           },
           {
            "bin_start": 45.8,
            "bin_end": 48.900000000000006,
            "count": 0
           },
           {
            "bin_start": 48.900000000000006,
            "bin_end": 52,
            "count": 1
           }
          ]
         }
        },
        {
         "name": "AveRooms",
         "dtype": "float64",
         "stats": {
          "unique_count": 3,
          "nan_count": 0,
          "min": "6.238137082601054",
          "max": "8.288135593220339",
          "histogram": [
           {
            "bin_start": 6.238137082601054,
            "bin_end": 6.4431369336629825,
            "count": 1
           },
           {
            "bin_start": 6.4431369336629825,
            "bin_end": 6.648136784724911,
            "count": 0
           },
           {
            "bin_start": 6.648136784724911,
            "bin_end": 6.853136635786839,
            "count": 0
           },
           {
            "bin_start": 6.853136635786839,
            "bin_end": 7.058136486848768,
            "count": 1
           },
           {
            "bin_start": 7.058136486848768,
            "bin_end": 7.263136337910696,
            "count": 0
           },
           {
            "bin_start": 7.263136337910696,
            "bin_end": 7.468136188972625,
            "count": 0
           },
           {
            "bin_start": 7.468136188972625,
            "bin_end": 7.673136040034554,
            "count": 0
           },
           {
            "bin_start": 7.673136040034554,
            "bin_end": 7.878135891096482,
            "count": 0
           },
           {
            "bin_start": 7.878135891096482,
            "bin_end": 8.08313574215841,
            "count": 0
           },
           {
            "bin_start": 8.08313574215841,
            "bin_end": 8.288135593220339,
            "count": 1
           }
          ]
         }
        },
        {
         "name": "AveBedrms",
         "dtype": "float64",
         "stats": {
          "unique_count": 3,
          "nan_count": 0,
          "min": "0.9718804920913884",
          "max": "1.073446327683616",
          "histogram": [
           {
            "bin_start": 0.9718804920913884,
            "bin_end": 0.9820370756506112,
            "count": 1
           },
           {
            "bin_start": 0.9820370756506112,
            "bin_end": 0.9921936592098339,
            "count": 0
           },
           {
            "bin_start": 0.9921936592098339,
            "bin_end": 1.0023502427690567,
            "count": 0
           },
           {
            "bin_start": 1.0023502427690567,
            "bin_end": 1.0125068263282795,
            "count": 0
           },
           {
            "bin_start": 1.0125068263282795,
            "bin_end": 1.0226634098875023,
            "count": 0
           },
           {
            "bin_start": 1.0226634098875023,
            "bin_end": 1.0328199934467248,
            "count": 1
           },
           {
            "bin_start": 1.0328199934467248,
            "bin_end": 1.0429765770059476,
            "count": 0
           },
           {
            "bin_start": 1.0429765770059476,
            "bin_end": 1.0531331605651704,
            "count": 0
           },
           {
            "bin_start": 1.0531331605651704,
            "bin_end": 1.0632897441243931,
            "count": 0
           },
           {
            "bin_start": 1.0632897441243931,
            "bin_end": 1.073446327683616,
            "count": 1
           }
          ]
         }
        },
        {
         "name": "Population",
         "dtype": "float64",
         "stats": {
          "unique_count": 3,
          "nan_count": 0,
          "min": "322.0",
          "max": "2401.0",
          "histogram": [
           {
            "bin_start": 322,
            "bin_end": 529.9,
            "count": 2
           },
           {
            "bin_start": 529.9,
            "bin_end": 737.8,
            "count": 0
           },
           {
            "bin_start": 737.8,
            "bin_end": 945.7,
            "count": 0
           },
           {
            "bin_start": 945.7,
            "bin_end": 1153.6,
            "count": 0
           },
           {
            "bin_start": 1153.6,
            "bin_end": 1361.5,
            "count": 0
           },
           {
            "bin_start": 1361.5,
            "bin_end": 1569.4,
            "count": 0
           },
           {
            "bin_start": 1569.4,
            "bin_end": 1777.3,
            "count": 0
           },
           {
            "bin_start": 1777.3,
            "bin_end": 1985.2,
            "count": 0
           },
           {
            "bin_start": 1985.2,
            "bin_end": 2193.1000000000004,
            "count": 0
           },
           {
            "bin_start": 2193.1000000000004,
            "bin_end": 2401,
            "count": 1
           }
          ]
         }
        },
        {
         "name": "AveOccup",
         "dtype": "float64",
         "stats": {
          "unique_count": 3,
          "nan_count": 0,
          "min": "2.109841827768014",
          "max": "2.8022598870056497",
          "histogram": [
           {
            "bin_start": 2.109841827768014,
            "bin_end": 2.1790836336917776,
            "count": 1
           },
           {
            "bin_start": 2.1790836336917776,
            "bin_end": 2.248325439615541,
            "count": 0
           },
           {
            "bin_start": 2.248325439615541,
            "bin_end": 2.317567245539305,
            "count": 0
           },
           {
            "bin_start": 2.317567245539305,
            "bin_end": 2.3868090514630684,
            "count": 0
           },
           {
            "bin_start": 2.3868090514630684,
            "bin_end": 2.456050857386832,
            "count": 0
           },
           {
            "bin_start": 2.456050857386832,
            "bin_end": 2.525292663310595,
            "count": 0
           },
           {
            "bin_start": 2.525292663310595,
            "bin_end": 2.594534469234359,
            "count": 1
           },
           {
            "bin_start": 2.594534469234359,
            "bin_end": 2.6637762751581224,
            "count": 0
           },
           {
            "bin_start": 2.6637762751581224,
            "bin_end": 2.733018081081886,
            "count": 0
           },
           {
            "bin_start": 2.733018081081886,
            "bin_end": 2.8022598870056497,
            "count": 1
           }
          ]
         }
        },
        {
         "name": "Latitude",
         "dtype": "float64",
         "stats": {
          "unique_count": 3,
          "nan_count": 0,
          "min": "37.85",
          "max": "37.88",
          "histogram": [
           {
            "bin_start": 37.85,
            "bin_end": 37.853,
            "count": 1
           },
           {
            "bin_start": 37.853,
            "bin_end": 37.856,
            "count": 0
           },
           {
            "bin_start": 37.856,
            "bin_end": 37.859,
            "count": 0
           },
           {
            "bin_start": 37.859,
            "bin_end": 37.862,
            "count": 1
           },
           {
            "bin_start": 37.862,
            "bin_end": 37.865,
            "count": 0
           },
           {
            "bin_start": 37.865,
            "bin_end": 37.868,
            "count": 0
           },
           {
            "bin_start": 37.868,
            "bin_end": 37.871,
            "count": 0
           },
           {
            "bin_start": 37.871,
            "bin_end": 37.874,
            "count": 0
           },
           {
            "bin_start": 37.874,
            "bin_end": 37.877,
            "count": 0
           },
           {
            "bin_start": 37.877,
            "bin_end": 37.88,
            "count": 1
           }
          ]
         }
        },
        {
         "name": "Longitude",
         "dtype": "float64",
         "stats": {
          "unique_count": 3,
          "nan_count": 0,
          "min": "-122.24",
          "max": "-122.22",
          "histogram": [
           {
            "bin_start": -122.24,
            "bin_end": -122.238,
            "count": 1
           },
           {
            "bin_start": -122.238,
            "bin_end": -122.23599999999999,
            "count": 0
           },
           {
            "bin_start": -122.23599999999999,
            "bin_end": -122.234,
            "count": 0
           },
           {
            "bin_start": -122.234,
            "bin_end": -122.232,
            "count": 0
           },
           {
            "bin_start": -122.232,
            "bin_end": -122.22999999999999,
            "count": 1
           },
           {
            "bin_start": -122.22999999999999,
            "bin_end": -122.228,
            "count": 0
           },
           {
            "bin_start": -122.228,
            "bin_end": -122.226,
            "count": 0
           },
           {
            "bin_start": -122.226,
            "bin_end": -122.224,
            "count": 0
           },
           {
            "bin_start": -122.224,
            "bin_end": -122.222,
            "count": 0
           },
           {
            "bin_start": -122.222,
            "bin_end": -122.22,
            "count": 1
           }
          ]
         }
        },
        {
         "name": "Price",
         "dtype": "float64",
         "stats": {
          "unique_count": 3,
          "nan_count": 0,
          "min": "3521.0",
          "max": "4526.0",
          "histogram": [
           {
            "bin_start": 3521,
            "bin_end": 3621.5,
            "count": 2
           },
           {
            "bin_start": 3621.5,
            "bin_end": 3722,
            "count": 0
           },
           {
            "bin_start": 3722,
            "bin_end": 3822.5,
            "count": 0
           },
           {
            "bin_start": 3822.5,
            "bin_end": 3923,
            "count": 0
           },
           {
            "bin_start": 3923,
            "bin_end": 4023.5,
            "count": 0
           },
           {
            "bin_start": 4023.5,
            "bin_end": 4124,
            "count": 0
           },
           {
            "bin_start": 4124,
            "bin_end": 4224.5,
            "count": 0
           },
           {
            "bin_start": 4224.5,
            "bin_end": 4325,
            "count": 0
           },
           {
            "bin_start": 4325,
            "bin_end": 4425.5,
            "count": 0
           },
           {
            "bin_start": 4425.5,
            "bin_end": 4526,
            "count": 1
           }
          ]
         }
        },
        {
         "name": "_deepnote_index_column",
         "dtype": "int64"
        }
       ],
       "rows": [
        {
         "MedInc": 8325.2,
         "HouseAge": 41,
         "AveRooms": 6.984126984126984,
         "AveBedrms": 1.0238095238095237,
         "Population": 322,
         "AveOccup": 2.5555555555555554,
         "Latitude": 37.88,
         "Longitude": -122.23,
         "Price": 4526,
         "_deepnote_index_column": 0
        },
        {
         "MedInc": 8301.4,
         "HouseAge": 21,
         "AveRooms": 6.238137082601054,
         "AveBedrms": 0.9718804920913884,
         "Population": 2401,
         "AveOccup": 2.109841827768014,
         "Latitude": 37.86,
         "Longitude": -122.22,
         "Price": 3585,
         "_deepnote_index_column": 1
        },
        {
         "MedInc": 7257.4,
         "HouseAge": 52,
         "AveRooms": 8.288135593220339,
         "AveBedrms": 1.073446327683616,
         "Population": 496,
         "AveOccup": 2.8022598870056497,
         "Latitude": 37.85,
         "Longitude": -122.24,
         "Price": 3521,
         "_deepnote_index_column": 2
        }
       ]
      },
      "text/plain": "   MedInc  HouseAge  AveRooms  AveBedrms  Population  AveOccup  Latitude  \\\n0  8325.2      41.0  6.984127   1.023810       322.0  2.555556     37.88   \n1  8301.4      21.0  6.238137   0.971880      2401.0  2.109842     37.86   \n2  7257.4      52.0  8.288136   1.073446       496.0  2.802260     37.85   \n\n   Longitude   Price  \n0    -122.23  4526.0  \n1    -122.22  3585.0  \n2    -122.24  3521.0  ",
      "text/html": "<div>\n<style scoped>\n    .dataframe tbody tr th:only-of-type {\n        vertical-align: middle;\n    }\n\n    .dataframe tbody tr th {\n        vertical-align: top;\n    }\n\n    .dataframe thead th {\n        text-align: right;\n    }\n</style>\n<table border=\"1\" class=\"dataframe\">\n  <thead>\n    <tr style=\"text-align: right;\">\n      <th></th>\n      <th>MedInc</th>\n      <th>HouseAge</th>\n      <th>AveRooms</th>\n      <th>AveBedrms</th>\n      <th>Population</th>\n      <th>AveOccup</th>\n      <th>Latitude</th>\n      <th>Longitude</th>\n      <th>Price</th>\n    </tr>\n  </thead>\n  <tbody>\n    <tr>\n      <th>0</th>\n      <td>8325.2</td>\n      <td>41.0</td>\n      <td>6.984127</td>\n      <td>1.023810</td>\n      <td>322.0</td>\n      <td>2.555556</td>\n      <td>37.88</td>\n      <td>-122.23</td>\n      <td>4526.0</td>\n    </tr>\n    <tr>\n      <th>1</th>\n      <td>8301.4</td>\n      <td>21.0</td>\n      <td>6.238137</td>\n      <td>0.971880</td>\n      <td>2401.0</td>\n      <td>2.109842</td>\n      <td>37.86</td>\n      <td>-122.22</td>\n      <td>3585.0</td>\n    </tr>\n    <tr>\n      <th>2</th>\n      <td>7257.4</td>\n      <td>52.0</td>\n      <td>8.288136</td>\n      <td>1.073446</td>\n      <td>496.0</td>\n      <td>2.802260</td>\n      <td>37.85</td>\n      <td>-122.24</td>\n      <td>3521.0</td>\n    </tr>\n  </tbody>\n</table>\n</div>"
     },
     "metadata": {}
    }
   ],
   "execution_count": 24
  },
  {
   "cell_type": "code",
   "source": "est = smf.ols('Price ~ MedInc  + AveBedrms + AveOccup + Latitude ', df_california).fit()\n\nprint(est.summary())",
   "metadata": {
    "cell_id": "350a4a62-899d-4843-b0ed-05804d4c2c28",
    "tags": [],
    "deepnote_to_be_reexecuted": false,
    "source_hash": "e7c185f6",
    "execution_start": 1645020573365,
    "execution_millis": 61,
    "deepnote_cell_type": "code"
   },
   "outputs": [
    {
     "name": "stdout",
     "text": "                            OLS Regression Results                            \n==============================================================================\nDep. Variable:                  Price   R-squared:                       0.427\nModel:                            OLS   Adj. R-squared:                  0.427\nMethod:                 Least Squares   F-statistic:                     3656.\nDate:                Wed, 16 Feb 2022   Prob (F-statistic):               0.00\nTime:                        14:09:33   Log-Likelihood:            -1.5707e+05\nNo. Observations:               19609   AIC:                         3.141e+05\nDf Residuals:                   19604   BIC:                         3.142e+05\nDf Model:                           4                                         \nCovariance Type:            nonrobust                                         \n==============================================================================\n                 coef    std err          t      P>|t|      [0.025      0.975]\n------------------------------------------------------------------------------\nIntercept   2097.7137     88.781     23.628      0.000    1923.695    2271.732\nMedInc         0.3920      0.003    117.296      0.000       0.385       0.399\nAveBedrms    -28.0228     11.551     -2.426      0.015     -50.663      -5.382\nAveOccup      -3.4170      0.489     -6.991      0.000      -4.375      -2.459\nLatitude     -44.3416      2.432    -18.229      0.000     -49.109     -39.574\n==============================================================================\nOmnibus:                     3245.347   Durbin-Watson:                   0.621\nProb(Omnibus):                  0.000   Jarque-Bera (JB):             6168.732\nSkew:                           1.031   Prob(JB):                         0.00\nKurtosis:                       4.815   Cond. No.                     6.81e+04\n==============================================================================\n\nNotes:\n[1] Standard Errors assume that the covariance matrix of the errors is correctly specified.\n[2] The condition number is large, 6.81e+04. This might indicate that there are\nstrong multicollinearity or other numerical problems.\n",
     "output_type": "stream"
    }
   ],
   "execution_count": 26
  },
  {
   "cell_type": "markdown",
   "source": "## Excercise 1\n\nRun the the Leave-one-out cross-validation resampling method on the california dataset",
   "metadata": {
    "cell_id": "d58ae5cc-b5ba-4e05-86d6-d86648aa00a6",
    "tags": [],
    "deepnote_cell_type": "markdown"
   }
  },
  {
   "cell_type": "markdown",
   "source": "**Answer**",
   "metadata": {
    "cell_id": "f58041df-46a6-4260-9d08-d6858fddc538",
    "tags": [],
    "deepnote_cell_type": "markdown"
   }
  },
  {
   "cell_type": "markdown",
   "source": "",
   "metadata": {
    "cell_id": "cabbaf12-e675-494d-a581-b672ddec3fb4",
    "tags": [],
    "deepnote_cell_type": "markdown"
   }
  },
  {
   "cell_type": "markdown",
   "source": "## Excercise 2\n\nRun the the $k$-fold cross-validation resampling method on the california dataset. Each one of you takes a different value for k",
   "metadata": {
    "cell_id": "69da1c2a-f279-4be8-84e9-40c60717d643",
    "tags": [],
    "deepnote_cell_type": "markdown"
   }
  },
  {
   "cell_type": "markdown",
   "source": "**Answer**",
   "metadata": {
    "cell_id": "90c8ee63-569b-4c36-9aec-1d6b2711760a",
    "tags": [],
    "deepnote_cell_type": "markdown"
   }
  },
  {
   "cell_type": "markdown",
   "source": "",
   "metadata": {
    "cell_id": "f1c04baa-edb6-4788-8238-0d5ee322df66",
    "tags": [],
    "deepnote_cell_type": "markdown"
   }
  },
  {
   "cell_type": "markdown",
   "source": "## Excercise 3\n\nRun the the Bootstraping resampling method on the california dataset.",
   "metadata": {
    "cell_id": "183eb8d5-af52-42d3-85c7-b3864fd78ef2",
    "tags": [],
    "deepnote_cell_type": "markdown"
   }
  },
  {
   "cell_type": "markdown",
   "source": "**Answer**",
   "metadata": {
    "cell_id": "fa8e305e-38d4-489f-a5cc-a01896acb1fc",
    "tags": [],
    "deepnote_cell_type": "markdown"
   }
  },
  {
   "cell_type": "markdown",
   "source": "",
   "metadata": {
    "cell_id": "0508d5f7-d131-4613-bc22-09d74930fefe",
    "tags": [],
    "deepnote_cell_type": "markdown"
   }
  },
  {
   "cell_type": "markdown",
   "source": "## Excercise 4\n \nObtain the boxplot of the distribution of each one of the coefficients on the california dataset.",
   "metadata": {
    "cell_id": "f197994f-a9e0-4067-a713-d8a21efc4d1c",
    "tags": [],
    "deepnote_cell_type": "markdown"
   }
  },
  {
   "cell_type": "markdown",
   "source": "**Answer**",
   "metadata": {
    "cell_id": "335f45b5-722a-41ad-9b9c-38c26f26b756",
    "tags": [],
    "deepnote_cell_type": "markdown"
   }
  },
  {
   "cell_type": "markdown",
   "source": "",
   "metadata": {
    "cell_id": "e94c1068-27a9-41ae-bc40-43f0e1da3bc5",
    "tags": [],
    "deepnote_cell_type": "markdown"
   }
  },
  {
   "cell_type": "markdown",
   "source": "<a style='text-decoration:none;line-height:16px;display:flex;color:#5B5B62;padding:10px;justify-content:end;' href='https://deepnote.com?utm_source=created-in-deepnote-cell&projectId=96262903-a28f-4719-a328-dc59e3cfa77f' target=\"_blank\">\n<img alt='Created in deepnote.com' style='display:inline;max-height:16px;margin:0px;margin-right:7.5px;' src='data:image/svg+xml;base64,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' > </img>\nCreated in <span style='font-weight:600;margin-left:4px;'>Deepnote</span></a>",
   "metadata": {
    "tags": [],
    "created_in_deepnote_cell": true,
    "deepnote_cell_type": "markdown"
   }
  }
 ],
 "nbformat": 4,
 "nbformat_minor": 2,
 "metadata": {
  "orig_nbformat": 2,
  "deepnote": {
   "is_reactive": false
  },
  "deepnote_notebook_id": "60a8f664-2e36-4056-9617-652ccfdb9a4e",
  "deepnote_execution_queue": []
 }
}